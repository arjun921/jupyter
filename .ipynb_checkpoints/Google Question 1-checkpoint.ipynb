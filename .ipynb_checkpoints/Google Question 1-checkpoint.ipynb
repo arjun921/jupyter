{
 "cells": [
  {
   "cell_type": "code",
   "execution_count": 91,
   "metadata": {
    "collapsed": false
   },
   "outputs": [
    {
     "name": "stdout",
     "output_type": "stream",
     "text": [
      "3\n",
      "\n",
      "0 0\n",
      "3\n",
      "50 50\n",
      "20 40\n",
      "60 30\n",
      "\n",
      "50 20\n",
      "3\n",
      "50 50\n",
      "20 40\n",
      "60 30\n",
      "\n",
      "50 50\n",
      "3\n",
      "50 50\n",
      "20 40\n",
      "60 30\n"
     ]
    }
   ],
   "source": [
    "#initialize\n",
    "c = int(input())\n",
    "#store Location coordinates\n",
    "locs = []\n",
    "userLoc = []\n",
    "for i in range(c):\n",
    "    #for empty input post number of inputs\n",
    "    input()\n",
    "    #userLoc stores the user's location\n",
    "    userLoc.append(input().strip().split(\" \"))\n",
    "    #number of stores = n\n",
    "    loc = []\n",
    "    n = int(input())\n",
    "    for x in range(n):\n",
    "        loc.append(input().strip().split(\" \"))\n",
    "    locs.append(n)\n",
    "    locs.append(loc)"
   ]
  },
  {
   "cell_type": "code",
   "execution_count": 92,
   "metadata": {
    "collapsed": false
   },
   "outputs": [
    {
     "data": {
      "text/plain": [
       "[3,\n",
       " [['50', '50'], ['20', '40'], ['60', '30']],\n",
       " 3,\n",
       " [['50', '50'], ['20', '40'], ['60', '30']],\n",
       " 3,\n",
       " [['50', '50'], ['20', '40'], ['60', '30']]]"
      ]
     },
     "execution_count": 92,
     "metadata": {},
     "output_type": "execute_result"
    }
   ],
   "source": [
    "locs"
   ]
  },
  {
   "cell_type": "code",
   "execution_count": 15,
   "metadata": {
    "collapsed": false
   },
   "outputs": [
    {
     "data": {
      "text/plain": [
       "[['0', '0'], ['50', '20'], ['50', '50']]"
      ]
     },
     "execution_count": 15,
     "metadata": {},
     "output_type": "execute_result"
    }
   ],
   "source": [
    "userLoc"
   ]
  },
  {
   "cell_type": "code",
   "execution_count": 32,
   "metadata": {
    "collapsed": false
   },
   "outputs": [
    {
     "name": "stdout",
     "output_type": "stream",
     "text": [
      "50 50\n",
      "20 40\n",
      "60 30\n",
      "**********\n",
      "50 50\n",
      "20 40\n",
      "60 30\n",
      "**********\n",
      "50 50\n",
      "20 40\n",
      "60 30\n",
      "**********\n"
     ]
    }
   ],
   "source": [
    "x=0\n",
    "y=0\n",
    "for a in range(len(locs)):\n",
    "    for b in range(len(locs[a])):\n",
    "        x = int(locs[a][b][0])\n",
    "        y = int(locs[a][b][1])\n",
    "        print(x,y)\n",
    "    print('*'*10)"
   ]
  },
  {
   "cell_type": "code",
   "execution_count": 35,
   "metadata": {
    "collapsed": false
   },
   "outputs": [
    {
     "name": "stdout",
     "output_type": "stream",
     "text": [
      "['0', '0']\n",
      "0 0\n",
      "['50', '20']\n",
      "50 20\n",
      "['50', '50']\n",
      "50 50\n"
     ]
    }
   ],
   "source": [
    "for c in range(len(userLoc)):\n",
    "    useX = int(userLoc[c][0])\n",
    "    useY = int(userLoc[c][1])\n",
    "    print(useX,useY)"
   ]
  },
  {
   "cell_type": "code",
   "execution_count": 43,
   "metadata": {
    "collapsed": false
   },
   "outputs": [],
   "source": [
    "from math import sqrt"
   ]
  },
  {
   "cell_type": "code",
   "execution_count": 85,
   "metadata": {
    "collapsed": false
   },
   "outputs": [
    {
     "name": "stdout",
     "output_type": "stream",
     "text": [
      "User coordinates:0,0\n",
      "User coordinates:50,20\n",
      "User coordinates:50,50\n"
     ]
    }
   ],
   "source": [
    "x=0\n",
    "y=0\n",
    "\n",
    "\n",
    "for c in range(len(userLoc)):\n",
    "    useX = int(userLoc[c][0])\n",
    "    useY = int(userLoc[c][1])\n",
    "    print(\"User coordinates:{},{}\".format(useX,useY))\n",
    "    for a in range(len(locs)):\n",
    "        for b in range(len(locs[a])):\n",
    "            x = int(locs[a][b][0])\n",
    "            y = int(locs[a][b][1])\n",
    "            print(\"Store Coordinates:\")\n",
    "            print(\"{},{}\".format(x,y))\n",
    "#             distance = sqrt(((useX-x)**2)+((useY-y)**2))\n",
    "#             print(\"Distance = {}\".format(distance))\n",
    "# #         print(\"*\"*10)\n",
    "#         x=0\n",
    "#         y=0\n",
    "#         useX=0\n",
    "#         useY=0\n",
    "        "
   ]
  },
  {
   "cell_type": "code",
   "execution_count": 109,
   "metadata": {
    "collapsed": false
   },
   "outputs": [
    {
     "name": "stdout",
     "output_type": "stream",
     "text": [
      "3\n",
      "User coordinates:0,0\n",
      "50 50\n",
      "20 40\n",
      "60 30\n",
      "User coordinates:50,20\n",
      "50 50\n",
      "20 40\n",
      "60 30\n",
      "User coordinates:50,50\n",
      "50 50\n",
      "20 40\n",
      "60 30\n",
      "3\n",
      "User coordinates:0,0\n",
      "50 50\n",
      "20 40\n",
      "60 30\n",
      "User coordinates:50,20\n",
      "50 50\n",
      "20 40\n",
      "60 30\n",
      "User coordinates:50,50\n",
      "50 50\n",
      "20 40\n",
      "60 30\n",
      "3\n",
      "User coordinates:0,0\n",
      "50 50\n",
      "20 40\n",
      "60 30\n",
      "User coordinates:50,20\n",
      "50 50\n",
      "20 40\n",
      "60 30\n",
      "User coordinates:50,50\n",
      "50 50\n",
      "20 40\n",
      "60 30\n"
     ]
    }
   ],
   "source": [
    "for qw in locs:\n",
    "#     print (qw)\n",
    "    if type(qw) is not int:\n",
    "        for a in range(len(qw)):\n",
    "            x = qw[a][0]\n",
    "            y = qw[a][1]\n",
    "\n",
    "            print (x,y)\n",
    "    else:\n",
    "        print(qw)"
   ]
  },
  {
   "cell_type": "code",
   "execution_count": 107,
   "metadata": {
    "collapsed": false
   },
   "outputs": [
    {
     "data": {
      "text/plain": [
       "[['0', '0'], ['50', '20'], ['50', '50']]"
      ]
     },
     "execution_count": 107,
     "metadata": {},
     "output_type": "execute_result"
    }
   ],
   "source": [
    "userLoc"
   ]
  },
  {
   "cell_type": "code",
   "execution_count": 89,
   "metadata": {
    "collapsed": false
   },
   "outputs": [
    {
     "name": "stdout",
     "output_type": "stream",
     "text": [
      "User coordinates:0,0\n",
      "User coordinates:50,20\n",
      "User coordinates:50,50\n"
     ]
    }
   ],
   "source": [
    "for c in range(len(userLoc)):\n",
    "    useX = int(userLoc[c][0])\n",
    "    useY = int(userLoc[c][1])\n",
    "    print(\"User coordinates:{},{}\".format(useX,useY))\n",
    "    "
   ]
  }
 ],
 "metadata": {
  "anaconda-cloud": {},
  "kernelspec": {
   "display_name": "Python [conda root]",
   "language": "python",
   "name": "conda-root-py"
  },
  "language_info": {
   "codemirror_mode": {
    "name": "ipython",
    "version": 3
   },
   "file_extension": ".py",
   "mimetype": "text/x-python",
   "name": "python",
   "nbconvert_exporter": "python",
   "pygments_lexer": "ipython3",
   "version": "3.5.2"
  }
 },
 "nbformat": 4,
 "nbformat_minor": 1
}
