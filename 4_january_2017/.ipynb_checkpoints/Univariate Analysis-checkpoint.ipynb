{
 "cells": [
  {
   "cell_type": "code",
   "execution_count": 1,
   "metadata": {
    "collapsed": true
   },
   "outputs": [],
   "source": [
    "import pandas as pd\n",
    "train = pd.read_csv('train.csv')\n",
    "train = pd.read_csv('test.csv')"
   ]
  },
  {
   "cell_type": "code",
   "execution_count": 2,
   "metadata": {
    "collapsed": false
   },
   "outputs": [
    {
     "data": {
      "text/plain": [
       "ID                 int64\n",
       "Age                int64\n",
       "Workclass         object\n",
       "Education         object\n",
       "Marital.Status    object\n",
       "Occupation        object\n",
       "Relationship      object\n",
       "Race              object\n",
       "Sex               object\n",
       "Hours.Per.Week     int64\n",
       "Native.Country    object\n",
       "dtype: object"
      ]
     },
     "execution_count": 2,
     "metadata": {},
     "output_type": "execute_result"
    }
   ],
   "source": [
    "train.dtypes"
   ]
  },
  {
   "cell_type": "code",
   "execution_count": 3,
   "metadata": {
    "collapsed": false
   },
   "outputs": [
    {
     "data": {
      "text/html": [
       "<div>\n",
       "<table border=\"1\" class=\"dataframe\">\n",
       "  <thead>\n",
       "    <tr style=\"text-align: right;\">\n",
       "      <th></th>\n",
       "      <th>ID</th>\n",
       "      <th>Age</th>\n",
       "      <th>Hours.Per.Week</th>\n",
       "    </tr>\n",
       "  </thead>\n",
       "  <tbody>\n",
       "    <tr>\n",
       "      <th>count</th>\n",
       "      <td>16281.000000</td>\n",
       "      <td>16281.000000</td>\n",
       "      <td>16281.000000</td>\n",
       "    </tr>\n",
       "    <tr>\n",
       "      <th>mean</th>\n",
       "      <td>40702.000000</td>\n",
       "      <td>38.767459</td>\n",
       "      <td>40.392236</td>\n",
       "    </tr>\n",
       "    <tr>\n",
       "      <th>std</th>\n",
       "      <td>4700.064202</td>\n",
       "      <td>13.849187</td>\n",
       "      <td>12.479332</td>\n",
       "    </tr>\n",
       "    <tr>\n",
       "      <th>min</th>\n",
       "      <td>32562.000000</td>\n",
       "      <td>17.000000</td>\n",
       "      <td>1.000000</td>\n",
       "    </tr>\n",
       "    <tr>\n",
       "      <th>25%</th>\n",
       "      <td>36632.000000</td>\n",
       "      <td>28.000000</td>\n",
       "      <td>40.000000</td>\n",
       "    </tr>\n",
       "    <tr>\n",
       "      <th>50%</th>\n",
       "      <td>40702.000000</td>\n",
       "      <td>37.000000</td>\n",
       "      <td>40.000000</td>\n",
       "    </tr>\n",
       "    <tr>\n",
       "      <th>75%</th>\n",
       "      <td>44772.000000</td>\n",
       "      <td>48.000000</td>\n",
       "      <td>45.000000</td>\n",
       "    </tr>\n",
       "    <tr>\n",
       "      <th>max</th>\n",
       "      <td>48842.000000</td>\n",
       "      <td>90.000000</td>\n",
       "      <td>99.000000</td>\n",
       "    </tr>\n",
       "  </tbody>\n",
       "</table>\n",
       "</div>"
      ],
      "text/plain": [
       "                 ID           Age  Hours.Per.Week\n",
       "count  16281.000000  16281.000000    16281.000000\n",
       "mean   40702.000000     38.767459       40.392236\n",
       "std     4700.064202     13.849187       12.479332\n",
       "min    32562.000000     17.000000        1.000000\n",
       "25%    36632.000000     28.000000       40.000000\n",
       "50%    40702.000000     37.000000       40.000000\n",
       "75%    44772.000000     48.000000       45.000000\n",
       "max    48842.000000     90.000000       99.000000"
      ]
     },
     "execution_count": 3,
     "metadata": {},
     "output_type": "execute_result"
    }
   ],
   "source": [
    "train.describe()"
   ]
  },
  {
   "cell_type": "code",
   "execution_count": 4,
   "metadata": {
    "collapsed": false
   },
   "outputs": [
    {
     "name": "stdout",
     "output_type": "stream",
     "text": [
      "Index(['Workclass', 'Education', 'Marital.Status', 'Occupation',\n",
      "       'Relationship', 'Race', 'Sex', 'Native.Country'],\n",
      "      dtype='object')\n"
     ]
    }
   ],
   "source": [
    "categorical_variables = train.dtypes.loc[train.dtypes=='object'].index\n",
    "print (categorical_variables)"
   ]
  },
  {
   "cell_type": "code",
   "execution_count": 7,
   "metadata": {
    "collapsed": false
   },
   "outputs": [
    {
     "data": {
      "text/plain": [
       "Workclass          9\n",
       "Education         16\n",
       "Marital.Status     7\n",
       "Occupation        15\n",
       "Relationship       6\n",
       "Race               5\n",
       "Sex                2\n",
       "Native.Country    41\n",
       "dtype: int64"
      ]
     },
     "execution_count": 7,
     "metadata": {},
     "output_type": "execute_result"
    }
   ],
   "source": [
    "train[categorical_variables].apply(lambda x: len(x.unique()))"
   ]
  },
  {
   "cell_type": "code",
   "execution_count": 8,
   "metadata": {
    "collapsed": false
   },
   "outputs": [
    {
     "data": {
      "text/plain": [
       "White                 13946\n",
       "Black                  1561\n",
       "Asian-Pac-Islander      480\n",
       "Amer-Indian-Eskimo      159\n",
       "Other                   135\n",
       "Name: Race, dtype: int64"
      ]
     },
     "execution_count": 8,
     "metadata": {},
     "output_type": "execute_result"
    }
   ],
   "source": [
    "train['Race'].value_counts()"
   ]
  },
  {
   "cell_type": "code",
   "execution_count": 9,
   "metadata": {
    "collapsed": false
   },
   "outputs": [
    {
     "data": {
      "text/plain": [
       "White                 0.856581\n",
       "Black                 0.095879\n",
       "Asian-Pac-Islander    0.029482\n",
       "Amer-Indian-Eskimo    0.009766\n",
       "Other                 0.008292\n",
       "Name: Race, dtype: float64"
      ]
     },
     "execution_count": 9,
     "metadata": {},
     "output_type": "execute_result"
    }
   ],
   "source": [
    "train['Race'].value_counts()/train.shape[0]"
   ]
  },
  {
   "cell_type": "code",
   "execution_count": 10,
   "metadata": {
    "collapsed": false
   },
   "outputs": [
    {
     "data": {
      "text/plain": [
       "United-States                 14662\n",
       "Mexico                          308\n",
       "Philippines                      97\n",
       "Puerto-Rico                      70\n",
       "Germany                          69\n",
       "Canada                           61\n",
       "India                            51\n",
       "El-Salvador                      49\n",
       "China                            47\n",
       "Cuba                             43\n",
       "England                          37\n",
       "South                            35\n",
       "Dominican-Republic               33\n",
       "Italy                            32\n",
       "Haiti                            31\n",
       "Japan                            30\n",
       "Portugal                         30\n",
       "Poland                           27\n",
       "Columbia                         26\n",
       "Jamaica                          25\n",
       "Guatemala                        24\n",
       "Greece                           20\n",
       "Vietnam                          19\n",
       "Ecuador                          17\n",
       "Iran                             16\n",
       "Peru                             15\n",
       "Nicaragua                        15\n",
       "Taiwan                           14\n",
       "Ireland                          13\n",
       "Thailand                         12\n",
       "Hong                             10\n",
       "Cambodia                          9\n",
       "Outlying-US(Guam-USVI-etc)        9\n",
       "France                            9\n",
       "Scotland                          9\n",
       "Trinadad&Tobago                   8\n",
       "Honduras                          7\n",
       "Yugoslavia                        7\n",
       "Hungary                           6\n",
       "Laos                              5\n",
       "Name: Native.Country, dtype: int64"
      ]
     },
     "execution_count": 10,
     "metadata": {},
     "output_type": "execute_result"
    }
   ],
   "source": [
    "train['Native.Country'].value_counts()"
   ]
  },
  {
   "cell_type": "code",
   "execution_count": 11,
   "metadata": {
    "collapsed": false
   },
   "outputs": [
    {
     "data": {
      "text/plain": [
       "United-States                 0.900559\n",
       "Mexico                        0.018918\n",
       "Philippines                   0.005958\n",
       "Puerto-Rico                   0.004299\n",
       "Germany                       0.004238\n",
       "Canada                        0.003747\n",
       "India                         0.003132\n",
       "El-Salvador                   0.003010\n",
       "China                         0.002887\n",
       "Cuba                          0.002641\n",
       "England                       0.002273\n",
       "South                         0.002150\n",
       "Dominican-Republic            0.002027\n",
       "Italy                         0.001965\n",
       "Haiti                         0.001904\n",
       "Japan                         0.001843\n",
       "Portugal                      0.001843\n",
       "Poland                        0.001658\n",
       "Columbia                      0.001597\n",
       "Jamaica                       0.001536\n",
       "Guatemala                     0.001474\n",
       "Greece                        0.001228\n",
       "Vietnam                       0.001167\n",
       "Ecuador                       0.001044\n",
       "Iran                          0.000983\n",
       "Peru                          0.000921\n",
       "Nicaragua                     0.000921\n",
       "Taiwan                        0.000860\n",
       "Ireland                       0.000798\n",
       "Thailand                      0.000737\n",
       "Hong                          0.000614\n",
       "Cambodia                      0.000553\n",
       "Outlying-US(Guam-USVI-etc)    0.000553\n",
       "France                        0.000553\n",
       "Scotland                      0.000553\n",
       "Trinadad&Tobago               0.000491\n",
       "Honduras                      0.000430\n",
       "Yugoslavia                    0.000430\n",
       "Hungary                       0.000369\n",
       "Laos                          0.000307\n",
       "Name: Native.Country, dtype: float64"
      ]
     },
     "execution_count": 11,
     "metadata": {},
     "output_type": "execute_result"
    }
   ],
   "source": [
    "train['Native.Country'].value_counts()/train.shape[0]"
   ]
  },
  {
   "cell_type": "code",
   "execution_count": null,
   "metadata": {
    "collapsed": true
   },
   "outputs": [],
   "source": []
  }
 ],
 "metadata": {
  "anaconda-cloud": {},
  "kernelspec": {
   "display_name": "Python [conda root]",
   "language": "python",
   "name": "conda-root-py"
  },
  "language_info": {
   "codemirror_mode": {
    "name": "ipython",
    "version": 3
   },
   "file_extension": ".py",
   "mimetype": "text/x-python",
   "name": "python",
   "nbconvert_exporter": "python",
   "pygments_lexer": "ipython3",
   "version": "3.5.2"
  }
 },
 "nbformat": 4,
 "nbformat_minor": 1
}
