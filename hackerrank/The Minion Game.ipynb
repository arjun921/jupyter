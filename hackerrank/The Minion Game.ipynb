{
 "cells": [
  {
   "cell_type": "code",
   "execution_count": 3,
   "metadata": {
    "collapsed": false
   },
   "outputs": [
    {
     "name": "stdout",
     "output_type": "stream",
     "text": [
      "banana\n",
      "Stuart 12\n"
     ]
    }
   ],
   "source": [
    "s = input()\n",
    "s = s.upper()\n",
    "lens = len(s)\n",
    "\n",
    "\n",
    "substrings = []\n",
    "stuart = []\n",
    "kevin = []\n",
    "\n",
    "consonants = set()\n",
    "\"\"\"Consonants in s to list\"\"\"\n",
    "def consonToList(s,consonants):\n",
    "    for x in s:\n",
    "        if x not in 'AEIOU':\n",
    "                consonants.add(x)\n",
    "    return\n",
    "\n",
    "vowels = set()\n",
    "\"\"\"Vowels in s to set\"\"\"\n",
    "def vowelToList(s,vowels):\n",
    "    for x in s:\n",
    "        if x in 'AEIOU':\n",
    "                vowels.add(x)\n",
    "    return\n",
    "                \n",
    "\"\"\"adds all possible substrings to substringlist\"\"\"\n",
    "def subwords(lens,s,substrings):\n",
    "    for b in range(0,lens):\n",
    "        for i in range(1,lens+1):\n",
    "                if s[b:i]!=\"\":\n",
    "                        substrings.append(s[b:i])\n",
    "    return\n",
    "\n",
    "if 0<lens and lens<10**6:    \n",
    "    consonToList(s,consonants)\n",
    "    vowelToList(s,vowels)\n",
    "    subwords(lens,s,substrings)\n",
    "\n",
    "    for let in vowels:\n",
    "            for words in substrings:\n",
    "                    if words.startswith(let):\n",
    "                            kevin.append(words)\n",
    "\n",
    "    for let in consonants:\n",
    "            for words in substrings:\n",
    "                    if words.startswith(let):\n",
    "                            stuart.append(words)\n",
    "\n",
    "    if len(kevin)>len(stuart):\n",
    "            print ('Kevin {}'.format(len(kevin)))\n",
    "    elif len(stuart)>len(kevin):\n",
    "            print ('Stuart {}'.format(len(stuart)))\n",
    "    else:\n",
    "        print ('Draw')"
   ]
  },
  {
   "cell_type": "code",
   "execution_count": 1,
   "metadata": {
    "collapsed": false
   },
   "outputs": [
    {
     "name": "stdout",
     "output_type": "stream",
     "text": [
      "banana\n",
      "6\n"
     ]
    }
   ],
   "source": [
    "z = input()\n",
    "if 0<len(z) and len(z)<500:\n",
    "    print (len(z))\n",
    "else:\n",
    "    exit()"
   ]
  },
  {
   "cell_type": "code",
   "execution_count": null,
   "metadata": {
    "collapsed": true
   },
   "outputs": [],
   "source": []
  },
  {
   "cell_type": "code",
   "execution_count": null,
   "metadata": {
    "collapsed": true
   },
   "outputs": [],
   "source": []
  },
  {
   "cell_type": "code",
   "execution_count": 5,
   "metadata": {
    "collapsed": false
   },
   "outputs": [
    {
     "data": {
      "text/plain": [
       "1000000"
      ]
     },
     "execution_count": 5,
     "metadata": {},
     "output_type": "execute_result"
    }
   ],
   "source": [
    "10**6"
   ]
  },
  {
   "cell_type": "code",
   "execution_count": null,
   "metadata": {
    "collapsed": false
   },
   "outputs": [],
   "source": [
    "import bitarray\n",
    "s = input()\n",
    "s = s.upper()\n",
    "lens = len(s)\n",
    "consonants = set()\n",
    "vowels = set()\n",
    "unique = []\n",
    "substrings = []\n",
    "stuart = []\n",
    "kevin = []\n",
    "\n",
    "\n",
    "\"\"\"Consonants in s to list\"\"\"\n",
    "for x in s:\n",
    "\tif x not in 'AEIOU':\n",
    "                consonants.add(x)\n",
    "\"\"\"Vowels in s to set\"\"\"\n",
    "for x in s:\n",
    "\tif x in 'AEIOU':\n",
    "\t\tvowels.add(x)\n",
    "\n",
    "\"\"\"adds all possible substrings to substringlist\"\"\"\n",
    "for b in range(0,lens):\n",
    "\tfor i in range(1,lens+1):\n",
    "\t\tif s[b:i]!=\"\":\n",
    "\t\t\tba = bitarray.bitarray()\n",
    "\t\t\tba.fromstring(s[b:i])\n",
    "\t\t\tasd = ba.tolist()\n",
    "\t\t\tsubstrings.append(asd)\n",
    "\n",
    "# for words in substrings:\n",
    "# \tprint (bitarray.bitarray(words).tostring())\n",
    "for let in vowels:\n",
    "\tfor words in substrings:\n",
    "\t\tif bitarray.bitarray(words).tostring().startswith(let):\n",
    "\t\t\tkevin.append(bitarray.bitarray(words).tostring())\n",
    "for let in consonants:\n",
    "\tfor words in substrings:\n",
    "\t\tif bitarray.bitarray(words).tostring().startswith(let):\n",
    "\t\t\tstuart.append(bitarray.bitarray(words).tostring())\n",
    "if len(kevin)>len(stuart):\n",
    "\tprint ('Kevin {}'.format(len(kevin)))\n",
    "elif len(stuart)>len(kevin):\n",
    "\tprint ('Stuart {}'.format(len(stuart)))\n",
    "else:\n",
    "\tprint ('Draw')\n"
   ]
  },
  {
   "cell_type": "code",
   "execution_count": 1,
   "metadata": {
    "collapsed": false
   },
   "outputs": [
    {
     "name": "stdout",
     "output_type": "stream",
     "text": [
      "Stuart 7501500\n"
     ]
    }
   ],
   "source": [
    "s = 'NANANNANANNANANNANANNANANNANANNANANNANANNANANNANANNANANNANANNANANNANANNANANNANANNANANNANANNANANNANANNANANNANANNANANNANANNANANNANANNANANNANANNANANNANANNANANNANANNANANNANANNANANNANANNANANNANANNANANNANANNANANNANANNANANNANANNANANNANANNANANNANANNANANNANANNANANNANANNANANNANANNANANNANANNANANNANANNANANNANANNANANNANANNANANNANANNANANNANANNANANNANANNANANNANANNANANNANANNANANNANANNANANNANANNANANNANANNANANNANANNANANNANANNANANNANANNANANNANANNANANNANANNANANNANANNANANNANANNANANNANANNANANNANANNANANNANANNANANNANANNANANNANANNANANNANANNANANNANANNANANNANANNANANNANANNANANNANANNANANNANANNANANNANANNANANNANANNANANNANANNANANNANANNANANNANANNANANNANANNANANNANANNANANNANANNANANNANANNANANNANANNANANNANANNANANNANANNANANNANANNANANNANANNANANNANANNANANNANANNANANNANANNANANNANANNANANNANANNANANNANANNANANNANANNANANNANANNANANNANANNANANNANANNANANNANANNANANNANANNANANNANANNANANNANANNANANNANANNANANNANANNANANNANANNANANNANANNANANNANANNANANNANANNANANNANANNANANNANANNANANNANANNANANNANANNANANNANANNANANNANANNANANNANANNANANNANANNANANNANANNANANNANANNANANNANANNANANNANANNANANNANANNANANNANANNANANNANANNANANNANANNANANNANANNANANNANANNANANNANANNANANNANANNANANNANANNANANNANANNANANNANANNANANNANANNANANNANANNANANNANANNANANNANANNANANNANANNANANNANANNANANNANANNANANNANANNANANNANANNANANNANANNANANNANANNANANNANANNANANNANANNANANNANANNANANNANANNANANNANANNANANNANANNANANNANANNANANNANANNANANNANANNANANNANANNANANNANANNANANNANANNANANNANANNANANNANANNANANNANANNANANNANANNANANNANANNANANNANANNANANNANANNANANNANANNANANNANANNANANNANANNANANNANANNANANNANANNANANNANANNANANNANANNANANNANANNANANNANANNANANNANANNANANNANANNANANNANANNANANNANANNANANNANANNANANNANANNANANNANANNANANNANANNANANNANANNANANNANANNANANNANANNANANNANANNANANNANANNANANNANANNANANNANANNANANNANANNANANNANANNANANNANANNANANNANANNANANNANANNANANNANANNANANNANANNANANNANANNANANNANANNANANNANANNANANNANANNANANNANANNANANNANANNANANNANANNANANNANANNANANNANANNANANNANANNANANNANANNANANNANANNANANNANANNANANNANANNANANNANANNANANNANANNANANNANANNANANNANANNANANNANANNANANNANANNANANNANANNANANNANANNANANNANANNANANNANANNANANNANANNANANNANANNANANNANANNANANNANANNANANNANANNANANNANANNANANNANANNANANNANANNANANNANANNANANNANANNANANNANANNANANNANANNANANNANANNANANNANANNANANNANANNANANNANANNANANNANANNANANNANANNANANNANANNANANNANANNANANNANANNANANNANANNANANNANANNANANNANANNANANNANANNANANNANANNANANNANANNANANNANANNANANNANANNANANNANANNANANNANANNANANNANANNANANNANANNANANNANANNANANNANANNANANNANANNANANNANANNANANNANANNANANNANANNANANNANANNANANNANANNANANNANANNANANNANANNANANNANANNANANNANANNANANNANANNANANNANANNANANNANANNANANNANANNANANNANANNANANNANANNANANNANANNANANNANANNANANNANANNANANNANANNANANNANANNANANNANANNANANNANANNANANNANANNANANNANANNANANNANANNANANNANANNANANNANANNANANNANANNANANNANANNANANNANANNANANNANANNANANNANANNANANNANANNANANNANANNANANNANANNANANNANANNANANNANANNANANNANANNANANNANANNANANNANANNANANNANANNANANNANANNANANNANANNANANNANANNANANNANANNANANNANANNANANNANANNANANNANANNANANNANANNANANNANANNANANNANANNANANNANANNANANNANANNANANNANANNANANNANANNANANNANANNANANNANANNANANNANANNANANNANANNANANNANANNANANNANANNANANNANANNANANNANANNANANNANANNANANNANANNANANNANANNANANNANANNANANNANANNANANNANANNANANNANANNANANNANANNANANNANANNANANNANANNANANNANANNANANNANANNANANNANANNANANNANANNANANNANANNANANNANANNANANNANANNANANNANANNANANNANANNANANNANANNANANNANANNANANNANANNANANNANANNANANNANANNANANNANANNANANNANANNANANNANANNANANNANANNANANNANANNANANNANANNANANNANANNANANNANANNANANNANANNANANNANANNANANNANANNANANNANANNANANNANANNANANNANANNANANNANANNANANNANANNANANNANANNANANNANANNANANNANANNANANNANANNANANNANANNANANNANANNANANNANANNANANNANANNANANNANANNANANNANANNANANNANANNANANNANANNANANNANANNANANNANANNANANNANANNANANNANANNANANNANANNANANNANANNANANNANANNANANNANANNANANNANANNANANNANANNANANNANANNANANNANANNANANNANANNANANNANANNANANNANANNANANNANANNANANNANANNANANNANANNANANNANANNANANNANANNANANNANANNANANNANANNANANNANANNANANNANANNANANNANANNANANNANANNANANNANANNANANNANANNANANNANANNANANNANANNANANNANANNANANNANANNANANNANANNANANNANANNANANNANANNANANNANANNANANNANANNANANNANANNANANNANANNANANNANANNANANNANANNANANNANANNANANNANANNANANNANANNANANNANANNANANNANANNANANNANANNANANNANANNANANNANANNANANNANANNANANNANANNANANNANANNANANNANANNANANNANANNANANNANANNANANNANANNANANNANANNANANNANANNANANNANANNANANNANANNANANNANANNANANNANANNANANNANANNANANNANANNANANNANANNANANNANANNANANNANANNANANNANANNANANNANANNANANNANANNANANNANANNANANNANANNANANNANANNANANNANANNANANNANANNANANNANANNANANNANANNANANNANANNANANNANANNANANNANANNANANNANANNANANNANANNANANNANANNANANNANANNANANNANANNANANNANANNANANNANANNANANNANANNANANNANANNANANNANANNANANNANANNANANNANANNANANNANANNANANNANANNANANNANANNANANNANANNANANNANANNANANNANANNANANNANANNANANNANANNANANNANANNANANNANANNANANNANANNANANNANANNANANNANANNANANNANANNANANNANANNANANNANANNANANNANANNANANNANANNANANNANANNANANNANANNANANNANANNANANNANANNANANNANANNANANNANANNANANNANANNANANNANANNANANNANANNANANNANANNANANNANANNANANNANANNANANNANANNANANNANANNANANNANANNANANNANANNANANNANANNANANNANANNANANNANANNANANNANANNANANNANANNANANNANANNANANNANANNANANNANANNANANNANANNANANNANANNANANNANANNANANNANANNANANNANANNANANNANANNANANNANANNANANNANANNANANNANANNANANNANANNANANNANANNANANNANANNANANNANANNANANNANANNANANNANANNANANNANAN'\n",
    "s = s.upper()\n",
    "lens = len(s)\n",
    "consonants = set()\n",
    "vowels = set()\n",
    "unique = []\n",
    "substrings = []\n",
    "stuart = []\n",
    "kevin = []\n",
    "kevintot,stuarttot = 0,0\n",
    "\"\"\"Consonants in s to list\"\"\"\n",
    "for x in s:\n",
    "\tif x not in 'AEIOU':\n",
    "                consonants.add(x)\n",
    "\"\"\"Vowels in s to set\"\"\"\n",
    "for x in s:\n",
    "\tif x in 'AEIOU':\n",
    "\t\tvowels.add(x)\n",
    "\n",
    "\"\"\"adds all possible substrings to substringlist\"\"\"\n",
    "for b in range(0,lens):\n",
    "\tfor i in range(1,lens+1):\n",
    "\t\tif s[b:i]!=\"\":\n",
    "\t\t\tls = s[b:i]\n",
    "\t\t\tfor let in vowels:\n",
    "\t\t\t\tif ls.startswith(let):\n",
    "\t\t\t\t\tkevintot += 1\n",
    "\t\t\tfor let in consonants:\n",
    "\t\t\t\tif ls.startswith(let):\n",
    "\t\t\t\t\tstuarttot += 1\n",
    "\n",
    "if kevintot>stuarttot:\n",
    "\tprint ('Kevin {}'.format(kevintot))\n",
    "elif stuarttot>kevintot:\n",
    "\tprint ('Stuart {}'.format(stuarttot))\n",
    "else:\n",
    "\tprint ('Draw')\n"
   ]
  },
  {
   "cell_type": "code",
   "execution_count": 2,
   "metadata": {
    "collapsed": false
   },
   "outputs": [
    {
     "name": "stdout",
     "output_type": "stream",
     "text": [
      "banana\n",
      "Stuart 12\n"
     ]
    }
   ],
   "source": [
    "s = input()\n",
    "s = s.upper()\n",
    "lens = len(s)\n",
    "consonants = set()\n",
    "vowels = set()\n",
    "unique = []\n",
    "substrings = []\n",
    "stuart = []\n",
    "kevin = []\n",
    "kevintot,stuarttot = 0,0\n",
    "\"\"\"Consonants in s to list\"\"\"\n",
    "for x in s:\n",
    "\tif x not in 'AEIOU':\n",
    "                consonants.add(x)\n",
    "\"\"\"Vowels in s to set\"\"\"\n",
    "for x in s:\n",
    "\tif x in 'AEIOU':\n",
    "\t\tvowels.add(x)\n",
    "\n",
    "\"\"\"adds all possible substrings to substringlist\"\"\"\n",
    "for b in range(0,lens):\n",
    "\tfor i in range(1,lens+1):\n",
    "\t\tif s[b:i]!=\"\":\n",
    "\t\t\tls = s[b:i]\n",
    "\t\t\tfor let in vowels:\n",
    "\t\t\t\tif ls.startswith(let):\n",
    "\t\t\t\t\tkevintot += 1\n",
    "\t\t\tfor let in consonants:\n",
    "\t\t\t\tif ls.startswith(let):\n",
    "\t\t\t\t\tstuarttot += 1\n",
    "\n",
    "if kevintot>stuarttot:\n",
    "\tprint ('Kevin {}'.format(kevintot))\n",
    "elif stuarttot>kevintot:\n",
    "\tprint ('Stuart {}'.format(stuarttot))\n",
    "else:\n",
    "\tprint ('Draw')\n"
   ]
  },
  {
   "cell_type": "code",
   "execution_count": null,
   "metadata": {
    "collapsed": true
   },
   "outputs": [],
   "source": []
  },
  {
   "cell_type": "code",
   "execution_count": null,
   "metadata": {
    "collapsed": true
   },
   "outputs": [],
   "source": []
  },
  {
   "cell_type": "code",
   "execution_count": null,
   "metadata": {
    "collapsed": true
   },
   "outputs": [],
   "source": []
  },
  {
   "cell_type": "code",
   "execution_count": null,
   "metadata": {
    "collapsed": true
   },
   "outputs": [],
   "source": []
  },
  {
   "cell_type": "code",
   "execution_count": null,
   "metadata": {
    "collapsed": true
   },
   "outputs": [],
   "source": [
    "\n"
   ]
  }
 ],
 "metadata": {
  "anaconda-cloud": {},
  "kernelspec": {
   "display_name": "Python [conda root]",
   "language": "python",
   "name": "conda-root-py"
  },
  "language_info": {
   "codemirror_mode": {
    "name": "ipython",
    "version": 3
   },
   "file_extension": ".py",
   "mimetype": "text/x-python",
   "name": "python",
   "nbconvert_exporter": "python",
   "pygments_lexer": "ipython3",
   "version": "3.5.2"
  }
 },
 "nbformat": 4,
 "nbformat_minor": 1
}
