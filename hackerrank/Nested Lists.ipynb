{
 "cells": [
  {
   "cell_type": "code",
   "execution_count": 99,
   "metadata": {
    "collapsed": false
   },
   "outputs": [
    {
     "name": "stdout",
     "output_type": "stream",
     "text": [
      "5\n",
      "Harsh\n",
      "20\n",
      "Beria\n",
      "20\n",
      "Varun\n",
      "19\n",
      "Kakunami\n",
      "19\n",
      "Vikas\n",
      "21\n"
     ]
    }
   ],
   "source": [
    "ls = []\n",
    "elem = []\n",
    "if __name__ == '__main__':\n",
    "    for _ in range(int(input())):\n",
    "        elem.append(input())\n",
    "        elem.append(float(input()))\n",
    "        ls.append(elem)\n",
    "        elem=[]"
   ]
  },
  {
   "cell_type": "code",
   "execution_count": 100,
   "metadata": {
    "collapsed": false
   },
   "outputs": [
    {
     "data": {
      "text/plain": [
       "[['Harsh', 20.0],\n",
       " ['Beria', 20.0],\n",
       " ['Varun', 19.0],\n",
       " ['Kakunami', 19.0],\n",
       " ['Vikas', 21.0]]"
      ]
     },
     "execution_count": 100,
     "metadata": {},
     "output_type": "execute_result"
    }
   ],
   "source": [
    "ls"
   ]
  },
  {
   "cell_type": "code",
   "execution_count": 101,
   "metadata": {
    "collapsed": false
   },
   "outputs": [],
   "source": [
    "temp = []\n",
    "for i in range(len(ls)):\n",
    "    a = ls[i][1]\n",
    "    temp.append(a)"
   ]
  },
  {
   "cell_type": "code",
   "execution_count": 102,
   "metadata": {
    "collapsed": false
   },
   "outputs": [
    {
     "data": {
      "text/plain": [
       "[20.0, 20.0, 19.0, 19.0, 21.0]"
      ]
     },
     "execution_count": 102,
     "metadata": {},
     "output_type": "execute_result"
    }
   ],
   "source": [
    "temp"
   ]
  },
  {
   "cell_type": "code",
   "execution_count": 107,
   "metadata": {
    "collapsed": false,
    "scrolled": true
   },
   "outputs": [],
   "source": [
    "def second_smallest(numbers):\n",
    "    m1, m2 = float('inf'), float('inf')\n",
    "    for x in numbers:\n",
    "        if x <= m1:\n",
    "            m1, m2 = x, m1\n",
    "        elif x < m2:\n",
    "            m2 = x\n",
    "    return m2"
   ]
  },
  {
   "cell_type": "code",
   "execution_count": 108,
   "metadata": {
    "collapsed": false
   },
   "outputs": [],
   "source": [
    "second = second_smallest(temp)"
   ]
  },
  {
   "cell_type": "code",
   "execution_count": 109,
   "metadata": {
    "collapsed": false
   },
   "outputs": [
    {
     "data": {
      "text/plain": [
       "19.0"
      ]
     },
     "execution_count": 109,
     "metadata": {},
     "output_type": "execute_result"
    }
   ],
   "source": [
    "second"
   ]
  },
  {
   "cell_type": "code",
   "execution_count": null,
   "metadata": {
    "collapsed": true
   },
   "outputs": [],
   "source": [
    "works = [37.21,37.21,37.2,41,39]"
   ]
  },
  {
   "cell_type": "code",
   "execution_count": 105,
   "metadata": {
    "collapsed": false
   },
   "outputs": [],
   "source": [
    "names = []\n",
    "for i in range(len(ls)):\n",
    "    if second in ls[i]:\n",
    "        names.append(ls[i][0])"
   ]
  },
  {
   "cell_type": "code",
   "execution_count": 106,
   "metadata": {
    "collapsed": false
   },
   "outputs": [
    {
     "data": {
      "text/plain": [
       "['Varun', 'Kakunami']"
      ]
     },
     "execution_count": 106,
     "metadata": {},
     "output_type": "execute_result"
    }
   ],
   "source": [
    "names"
   ]
  },
  {
   "cell_type": "code",
   "execution_count": 93,
   "metadata": {
    "collapsed": true
   },
   "outputs": [],
   "source": [
    "names.sort()"
   ]
  },
  {
   "cell_type": "code",
   "execution_count": 94,
   "metadata": {
    "collapsed": false
   },
   "outputs": [
    {
     "data": {
      "text/plain": [
       "['Berry', 'Harry']"
      ]
     },
     "execution_count": 94,
     "metadata": {},
     "output_type": "execute_result"
    }
   ],
   "source": [
    "names"
   ]
  },
  {
   "cell_type": "code",
   "execution_count": 97,
   "metadata": {
    "collapsed": false
   },
   "outputs": [
    {
     "name": "stdout",
     "output_type": "stream",
     "text": [
      "Berry\n",
      "Harry\n"
     ]
    }
   ],
   "source": [
    "for x in names:\n",
    "    print (x)"
   ]
  },
  {
   "cell_type": "code",
   "execution_count": 98,
   "metadata": {
    "collapsed": false
   },
   "outputs": [
    {
     "name": "stdout",
     "output_type": "stream",
     "text": [
      "5\n",
      "Harsh\n",
      "20\n",
      "Beria\n",
      "20\n",
      "Varun\n",
      "19\n",
      "Kakunami\n",
      "19\n",
      "Vikes\n",
      "21\n",
      "Kakunami\n",
      "Varun\n"
     ]
    }
   ],
   "source": [
    "ls = []\n",
    "elem = []\n",
    "temp = []\n",
    "\n",
    "def second_smallest(numbers):\n",
    "    m1, m2 = float('inf'), float('inf')\n",
    "    for x in numbers:\n",
    "        if x <= m1:\n",
    "            m1, m2 = x, m1\n",
    "        elif x < m2:\n",
    "            m2 = x\n",
    "    return m2\n",
    "\n",
    "if __name__ == '__main__':\n",
    "    for _ in range(int(input())):\n",
    "        elem.append(input())\n",
    "        elem.append(float(input()))\n",
    "        ls.append(elem)\n",
    "        elem=[]\n",
    "\n",
    "    for i in range(len(ls)):\n",
    "        a = ls[i][1]\n",
    "        temp.append(a)\n",
    "    second = second_smallest(temp)\n",
    "    names = []\n",
    "    for i in range(len(ls)):\n",
    "        if second in ls[i]:\n",
    "            names.append(ls[i][0])\n",
    "    names.sort()\n",
    "    for x in names:\n",
    "        print (x)"
   ]
  }
 ],
 "metadata": {
  "anaconda-cloud": {},
  "kernelspec": {
   "display_name": "Python [conda root]",
   "language": "python",
   "name": "conda-root-py"
  },
  "language_info": {
   "codemirror_mode": {
    "name": "ipython",
    "version": 3
   },
   "file_extension": ".py",
   "mimetype": "text/x-python",
   "name": "python",
   "nbconvert_exporter": "python",
   "pygments_lexer": "ipython3",
   "version": "3.5.2"
  }
 },
 "nbformat": 4,
 "nbformat_minor": 1
}
