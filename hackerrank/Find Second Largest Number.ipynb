{
 "cells": [
  {
   "cell_type": "code",
   "execution_count": 8,
   "metadata": {
    "collapsed": false
   },
   "outputs": [
    {
     "name": "stdout",
     "output_type": "stream",
     "text": [
      "5\n",
      "2 3 6 6 5\n",
      "5\n"
     ]
    }
   ],
   "source": [
    "\"\"\"Solved\"\"\"\n",
    "if __name__ == '__main__':\n",
    "    n = int(input())\n",
    "    arr = list(set([int(i) for i in input().strip().split(' ')]))\n",
    "    arr.sort()\n",
    "    greatest = arr[0]\n",
    "    for x in arr:\n",
    "        if greatest<x:\n",
    "            greatest = x\n",
    "    temp=[]\n",
    "    for x in arr:\n",
    "        if x!=greatest:\n",
    "            temp.append(x)\n",
    "    print(temp[len(temp)-1])"
   ]
  }
 ],
 "metadata": {
  "anaconda-cloud": {},
  "kernelspec": {
   "display_name": "Python [conda root]",
   "language": "python",
   "name": "conda-root-py"
  },
  "language_info": {
   "codemirror_mode": {
    "name": "ipython",
    "version": 3
   },
   "file_extension": ".py",
   "mimetype": "text/x-python",
   "name": "python",
   "nbconvert_exporter": "python",
   "pygments_lexer": "ipython3",
   "version": "3.5.2"
  }
 },
 "nbformat": 4,
 "nbformat_minor": 1
}
