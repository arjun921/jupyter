{
 "cells": [
  {
   "cell_type": "code",
   "execution_count": 2,
   "metadata": {
    "collapsed": false
   },
   "outputs": [
    {
     "name": "stdout",
     "output_type": "stream",
     "text": [
      "banana\n",
      "Stuart 12\n"
     ]
    }
   ],
   "source": [
    "s = input()\n",
    "s = s.upper()\n",
    "lens = len(s)\n",
    "\n",
    "\n",
    "substrings = []\n",
    "stuart = []\n",
    "kevin = []\n",
    "\n",
    "consonants = set()\n",
    "\"\"\"Consonants in s to list\"\"\"\n",
    "def consonToList(s,consonants):\n",
    "    for x in s:\n",
    "        if x not in 'AEIOU':\n",
    "                consonants.add(x)\n",
    "    return\n",
    "\n",
    "vowels = set()\n",
    "\"\"\"Vowels in s to set\"\"\"\n",
    "def vowelToList(s,vowels):\n",
    "    for x in s:\n",
    "        if x in 'AEIOU':\n",
    "                vowels.add(x)\n",
    "    return\n",
    "                \n",
    "\"\"\"adds all possible substrings to substringlist\"\"\"\n",
    "def subwords(lens,s,substrings):\n",
    "    for b in range(0,lens):\n",
    "        for i in range(1,lens+1):\n",
    "                if s[b:i]!=\"\":\n",
    "                        substrings.append(s[b:i])\n",
    "    return\n",
    "\n",
    "\n",
    "consonToList(s,consonants)\n",
    "vowelToList(s,vowels)\n",
    "subwords(lens,s,substrings)\n",
    "\n",
    "for let in vowels:\n",
    "        for words in substrings:\n",
    "                if words.startswith(let):\n",
    "                        kevin.append(words)\n",
    "                        \n",
    "for let in consonants:\n",
    "        for words in substrings:\n",
    "                if words.startswith(let):\n",
    "                        stuart.append(words)\n",
    "\n",
    "if len(kevin)>len(stuart):\n",
    "        print ('Kevin {}'.format(len(kevin)))\n",
    "elif len(stuart)>len(kevin):\n",
    "        print ('Stuart {}'.format(len(stuart)))"
   ]
  },
  {
   "cell_type": "code",
   "execution_count": null,
   "metadata": {
    "collapsed": true
   },
   "outputs": [],
   "source": []
  }
 ],
 "metadata": {
  "anaconda-cloud": {},
  "kernelspec": {
   "display_name": "Python [conda root]",
   "language": "python",
   "name": "conda-root-py"
  },
  "language_info": {
   "codemirror_mode": {
    "name": "ipython",
    "version": 3
   },
   "file_extension": ".py",
   "mimetype": "text/x-python",
   "name": "python",
   "nbconvert_exporter": "python",
   "pygments_lexer": "ipython3",
   "version": "3.5.2"
  }
 },
 "nbformat": 4,
 "nbformat_minor": 1
}
