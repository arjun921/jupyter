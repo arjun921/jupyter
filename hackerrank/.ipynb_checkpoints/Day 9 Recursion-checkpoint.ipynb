{
 "cells": [
  {
   "cell_type": "code",
   "execution_count": 15,
   "metadata": {
    "collapsed": false
   },
   "outputs": [
    {
     "name": "stdout",
     "output_type": "stream",
     "text": [
      "N= 10 before function call\n",
      "Intermediate n = 10\n",
      "N= 9 before function call\n",
      "Intermediate n = 9\n",
      "N= 8 before function call\n",
      "Intermediate n = 8\n",
      "N= 7 before function call\n",
      "Intermediate n = 7\n",
      "N= 6 before function call\n",
      "Intermediate n = 6\n",
      "N= 5 before function call\n",
      "Intermediate n = 5\n",
      "N= 4 before function call\n",
      "Intermediate n = 4\n",
      "N= 3 before function call\n",
      "Intermediate n = 3\n",
      "N= 2 before function call\n",
      "Intermediate n = 2\n",
      "N= 1 before function call\n"
     ]
    },
    {
     "data": {
      "text/plain": [
       "3628800"
      ]
     },
     "execution_count": 15,
     "metadata": {},
     "output_type": "execute_result"
    }
   ],
   "source": [
    "\n",
    "def factorial(n):\n",
    "    print('N= {} before function call'.format(n))\n",
    "    if n==1:\n",
    "        return 1\n",
    "    else:\n",
    "        print('Intermediate n = {}'.format(n))\n",
    "        return n*factorial(n-1)\n",
    "factorial(10)"
   ]
  }
 ],
 "metadata": {
  "anaconda-cloud": {},
  "kernelspec": {
   "display_name": "Python [conda root]",
   "language": "python",
   "name": "conda-root-py"
  },
  "language_info": {
   "codemirror_mode": {
    "name": "ipython",
    "version": 3
   },
   "file_extension": ".py",
   "mimetype": "text/x-python",
   "name": "python",
   "nbconvert_exporter": "python",
   "pygments_lexer": "ipython3",
   "version": "3.5.2"
  }
 },
 "nbformat": 4,
 "nbformat_minor": 1
}
