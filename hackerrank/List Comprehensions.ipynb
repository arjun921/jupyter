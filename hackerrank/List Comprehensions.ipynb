{
 "cells": [
  {
   "cell_type": "code",
   "execution_count": 9,
   "metadata": {
    "collapsed": false
   },
   "outputs": [
    {
     "name": "stdout",
     "output_type": "stream",
     "text": [
      "1\n",
      "1\n",
      "1\n",
      "2\n",
      "[[0, 0, 0], [0, 0, 1], [0, 1, 0], [1, 0, 0], [1, 1, 1]]\n"
     ]
    }
   ],
   "source": [
    "\"\"\"Solved\"\"\"\n",
    "\"\"\"https://www.hackerrank.com/challenges/list-comprehensions\"\"\"\n",
    "x = int(input())\n",
    "y = int(input())\n",
    "z = int(input())\n",
    "n = int(input())\n",
    "temp = []\n",
    "lis = []\n",
    "for i in range(x+1):\n",
    "    for j in range(y+1):\n",
    "        for k in range(z+1):\n",
    "            if i+j+k!=n:\n",
    "                temp.append(i)\n",
    "                temp.append(j)\n",
    "                temp.append(k)\n",
    "                lis.append(temp)\n",
    "                temp = []\n",
    "print (lis)"
   ]
  },
  {
   "cell_type": "code",
   "execution_count": 8,
   "metadata": {
    "collapsed": false
   },
   "outputs": [
    {
     "data": {
      "text/plain": [
       "[[0, 0, 0], [0, 0, 1], [0, 1, 0], [1, 0, 0], [1, 1, 1]]"
      ]
     },
     "execution_count": 8,
     "metadata": {},
     "output_type": "execute_result"
    }
   ],
   "source": [
    "lis"
   ]
  },
  {
   "cell_type": "code",
   "execution_count": 5,
   "metadata": {
    "collapsed": false
   },
   "outputs": [
    {
     "data": {
      "text/plain": [
       "[0, 0, 0, 0, 0, 1, 0, 1, 0, 1, 0, 0, 1, 1, 1]"
      ]
     },
     "execution_count": 5,
     "metadata": {},
     "output_type": "execute_result"
    }
   ],
   "source": [
    "temp"
   ]
  },
  {
   "cell_type": "code",
   "execution_count": 10,
   "metadata": {
    "collapsed": false
   },
   "outputs": [
    {
     "name": "stdout",
     "output_type": "stream",
     "text": [
      "1\n",
      "1\n",
      "1\n",
      "2\n",
      "[[0, 0, 0], [0, 0, 1], [0, 1, 0], [1, 0, 0], [1, 1, 1]]\n"
     ]
    }
   ],
   "source": [
    "\"\"\"Solved\"\"\"\n",
    "x = int(input())\n",
    "y = int(input())\n",
    "z = int(input())\n",
    "n = int(input())\n",
    "temp = []\n",
    "lis = []\n",
    "for i in range(x+1):\n",
    "    for j in range(y+1):\n",
    "        for k in range(z+1):\n",
    "            if i+j+k!=n:\n",
    "                temp.append(i)\n",
    "                temp.append(j)\n",
    "                temp.append(k)\n",
    "                lis.append(temp)\n",
    "                temp = []\n",
    "print (lis)"
   ]
  },
  {
   "cell_type": "code",
   "execution_count": 11,
   "metadata": {
    "collapsed": true
   },
   "outputs": [],
   "source": [
    "temp.append(i for i in range(x+1))"
   ]
  },
  {
   "cell_type": "code",
   "execution_count": 12,
   "metadata": {
    "collapsed": false
   },
   "outputs": [
    {
     "data": {
      "text/plain": [
       "[<generator object <genexpr> at 0x104ac4938>]"
      ]
     },
     "execution_count": 12,
     "metadata": {},
     "output_type": "execute_result"
    }
   ],
   "source": [
    "temp"
   ]
  },
  {
   "cell_type": "code",
   "execution_count": 16,
   "metadata": {
    "collapsed": false
   },
   "outputs": [],
   "source": [
    "temp = [i for i in range(x+1)]"
   ]
  },
  {
   "cell_type": "code",
   "execution_count": 14,
   "metadata": {
    "collapsed": false
   },
   "outputs": [
    {
     "data": {
      "text/plain": [
       "[0, 1]"
      ]
     },
     "execution_count": 14,
     "metadata": {},
     "output_type": "execute_result"
    }
   ],
   "source": [
    "temp"
   ]
  },
  {
   "cell_type": "code",
   "execution_count": 17,
   "metadata": {
    "collapsed": false
   },
   "outputs": [
    {
     "ename": "SyntaxError",
     "evalue": "invalid syntax (<ipython-input-17-b63b295019b1>, line 1)",
     "output_type": "error",
     "traceback": [
      "\u001b[0;36m  File \u001b[0;32m\"<ipython-input-17-b63b295019b1>\"\u001b[0;36m, line \u001b[0;32m1\u001b[0m\n\u001b[0;31m    temp = [i for i in range(x+1),j for j in range(y+1),k for for k in range(z+1)]\u001b[0m\n\u001b[0m                                 ^\u001b[0m\n\u001b[0;31mSyntaxError\u001b[0m\u001b[0;31m:\u001b[0m invalid syntax\n"
     ]
    }
   ],
   "source": [
    "temp = [i for i in range(x+1),j for j in range(y+1),k for for k in range(z+1)]"
   ]
  },
  {
   "cell_type": "code",
   "execution_count": 19,
   "metadata": {
    "collapsed": false
   },
   "outputs": [],
   "source": [
    "i_s = [i for i in range(x+1)]\n",
    "j_s = [j for j in range(y+1)]\n",
    "k_s = [k for k in range(z+1)]"
   ]
  },
  {
   "cell_type": "code",
   "execution_count": 20,
   "metadata": {
    "collapsed": false
   },
   "outputs": [
    {
     "data": {
      "text/plain": [
       "[0, 1]"
      ]
     },
     "execution_count": 20,
     "metadata": {},
     "output_type": "execute_result"
    }
   ],
   "source": [
    "i_s"
   ]
  },
  {
   "cell_type": "code",
   "execution_count": 21,
   "metadata": {
    "collapsed": false
   },
   "outputs": [
    {
     "data": {
      "text/plain": [
       "[0, 1]"
      ]
     },
     "execution_count": 21,
     "metadata": {},
     "output_type": "execute_result"
    }
   ],
   "source": [
    "j_s"
   ]
  },
  {
   "cell_type": "code",
   "execution_count": 23,
   "metadata": {
    "collapsed": false
   },
   "outputs": [
    {
     "data": {
      "text/plain": [
       "[0, 1]"
      ]
     },
     "execution_count": 23,
     "metadata": {},
     "output_type": "execute_result"
    }
   ],
   "source": [
    "k_s"
   ]
  },
  {
   "cell_type": "code",
   "execution_count": 24,
   "metadata": {
    "collapsed": false
   },
   "outputs": [
    {
     "ename": "SyntaxError",
     "evalue": "invalid syntax (<ipython-input-24-bad360d4e60d>, line 1)",
     "output_type": "error",
     "traceback": [
      "\u001b[0;36m  File \u001b[0;32m\"<ipython-input-24-bad360d4e60d>\"\u001b[0;36m, line \u001b[0;32m1\u001b[0m\n\u001b[0;31m    temp = [i for i in range(x+1) j for j in range(y+1) k for for k in range(z+1)]\u001b[0m\n\u001b[0m                                  ^\u001b[0m\n\u001b[0;31mSyntaxError\u001b[0m\u001b[0;31m:\u001b[0m invalid syntax\n"
     ]
    }
   ],
   "source": [
    "temp = [i for i in range(x+1) j for j in range(y+1) k for for k in range(z+1)]"
   ]
  },
  {
   "cell_type": "code",
   "execution_count": 25,
   "metadata": {
    "collapsed": false
   },
   "outputs": [
    {
     "name": "stdout",
     "output_type": "stream",
     "text": [
      "[[0, 0, 0], [0, 0, 1], [0, 1, 0], [1, 0, 0], [1, 1, 1], [0, 1, 0, 0, 0], [0, 0, 1], [0, 1, 0], [1, 0, 0], [1, 1, 1]]\n"
     ]
    }
   ],
   "source": [
    "for i in i_s:\n",
    "    for j in j_s:\n",
    "        for k in k_s:\n",
    "            if i+j+k!=n:\n",
    "                temp.append(i)\n",
    "                temp.append(j)\n",
    "                temp.append(k)\n",
    "                lis.append(temp)\n",
    "                temp = []\n",
    "print (lis)"
   ]
  },
  {
   "cell_type": "code",
   "execution_count": 6,
   "metadata": {
    "collapsed": true
   },
   "outputs": [],
   "source": [
    "\"\"\"Nesting Loops using list comprehension\"\"\"\n",
    "s = 'arjun'\n",
    "b = 'pranav'\n",
    "lists = [[i,j] for i in range(2) for j in s]"
   ]
  },
  {
   "cell_type": "code",
   "execution_count": null,
   "metadata": {
    "collapsed": true
   },
   "outputs": [],
   "source": []
  },
  {
   "cell_type": "code",
   "execution_count": 7,
   "metadata": {
    "collapsed": false
   },
   "outputs": [
    {
     "data": {
      "text/plain": [
       "[[0, 'a'],\n",
       " [0, 'r'],\n",
       " [0, 'j'],\n",
       " [0, 'u'],\n",
       " [0, 'n'],\n",
       " [1, 'a'],\n",
       " [1, 'r'],\n",
       " [1, 'j'],\n",
       " [1, 'u'],\n",
       " [1, 'n']]"
      ]
     },
     "execution_count": 7,
     "metadata": {},
     "output_type": "execute_result"
    }
   ],
   "source": [
    "lists"
   ]
  },
  {
   "cell_type": "code",
   "execution_count": 8,
   "metadata": {
    "collapsed": true
   },
   "outputs": [],
   "source": [
    "s = 'arjun'\n",
    "b = 'pranav'\n",
    "lists = [[i,j,k] for i in range(2) for j in s for k in b]"
   ]
  },
  {
   "cell_type": "code",
   "execution_count": 10,
   "metadata": {
    "collapsed": false
   },
   "outputs": [
    {
     "data": {
      "text/plain": [
       "[[0, 'a', 'p'],\n",
       " [0, 'a', 'r'],\n",
       " [0, 'a', 'a'],\n",
       " [0, 'a', 'n'],\n",
       " [0, 'a', 'a'],\n",
       " [0, 'a', 'v'],\n",
       " [0, 'r', 'p'],\n",
       " [0, 'r', 'r'],\n",
       " [0, 'r', 'a'],\n",
       " [0, 'r', 'n'],\n",
       " [0, 'r', 'a'],\n",
       " [0, 'r', 'v'],\n",
       " [0, 'j', 'p'],\n",
       " [0, 'j', 'r'],\n",
       " [0, 'j', 'a'],\n",
       " [0, 'j', 'n'],\n",
       " [0, 'j', 'a'],\n",
       " [0, 'j', 'v'],\n",
       " [0, 'u', 'p'],\n",
       " [0, 'u', 'r'],\n",
       " [0, 'u', 'a'],\n",
       " [0, 'u', 'n'],\n",
       " [0, 'u', 'a'],\n",
       " [0, 'u', 'v'],\n",
       " [0, 'n', 'p'],\n",
       " [0, 'n', 'r'],\n",
       " [0, 'n', 'a'],\n",
       " [0, 'n', 'n'],\n",
       " [0, 'n', 'a'],\n",
       " [0, 'n', 'v'],\n",
       " [1, 'a', 'p'],\n",
       " [1, 'a', 'r'],\n",
       " [1, 'a', 'a'],\n",
       " [1, 'a', 'n'],\n",
       " [1, 'a', 'a'],\n",
       " [1, 'a', 'v'],\n",
       " [1, 'r', 'p'],\n",
       " [1, 'r', 'r'],\n",
       " [1, 'r', 'a'],\n",
       " [1, 'r', 'n'],\n",
       " [1, 'r', 'a'],\n",
       " [1, 'r', 'v'],\n",
       " [1, 'j', 'p'],\n",
       " [1, 'j', 'r'],\n",
       " [1, 'j', 'a'],\n",
       " [1, 'j', 'n'],\n",
       " [1, 'j', 'a'],\n",
       " [1, 'j', 'v'],\n",
       " [1, 'u', 'p'],\n",
       " [1, 'u', 'r'],\n",
       " [1, 'u', 'a'],\n",
       " [1, 'u', 'n'],\n",
       " [1, 'u', 'a'],\n",
       " [1, 'u', 'v'],\n",
       " [1, 'n', 'p'],\n",
       " [1, 'n', 'r'],\n",
       " [1, 'n', 'a'],\n",
       " [1, 'n', 'n'],\n",
       " [1, 'n', 'a'],\n",
       " [1, 'n', 'v']]"
      ]
     },
     "execution_count": 10,
     "metadata": {},
     "output_type": "execute_result"
    }
   ],
   "source": [
    "lists"
   ]
  },
  {
   "cell_type": "code",
   "execution_count": 11,
   "metadata": {
    "collapsed": false
   },
   "outputs": [
    {
     "name": "stdout",
     "output_type": "stream",
     "text": [
      "1\n",
      "1\n",
      "1\n",
      "2\n",
      "[[0, 0, 0], [0, 0, 1], [0, 1, 0], [1, 0, 0], [1, 1, 1]]\n"
     ]
    }
   ],
   "source": [
    "\"\"\"Solved\"\"\"\n",
    "\"\"\"https://www.hackerrank.com/challenges/list-comprehensions\"\"\"\n",
    "x = int(input())\n",
    "y = int(input())\n",
    "z = int(input())\n",
    "n = int(input())\n",
    "temp = []\n",
    "lis = []\n",
    "for i in range(x+1):\n",
    "    for j in range(y+1):\n",
    "        for k in range(z+1):\n",
    "            if i+j+k!=n:\n",
    "                temp.append(i)\n",
    "                temp.append(j)\n",
    "                temp.append(k)\n",
    "                lis.append(temp)\n",
    "                temp = []\n",
    "print (lis)"
   ]
  },
  {
   "cell_type": "code",
   "execution_count": 13,
   "metadata": {
    "collapsed": false
   },
   "outputs": [
    {
     "ename": "SyntaxError",
     "evalue": "invalid syntax (<ipython-input-13-9213d67aca0a>, line 8)",
     "output_type": "error",
     "traceback": [
      "\u001b[0;36m  File \u001b[0;32m\"<ipython-input-13-9213d67aca0a>\"\u001b[0;36m, line \u001b[0;32m8\u001b[0m\n\u001b[0;31m    lis = [[i,j,k] if i+j+k!=n for i in range(x+1) for j in range(y+1) for k in range(z+1)]\u001b[0m\n\u001b[0m                                 ^\u001b[0m\n\u001b[0;31mSyntaxError\u001b[0m\u001b[0;31m:\u001b[0m invalid syntax\n"
     ]
    }
   ],
   "source": [
    "\"\"\"Solved\"\"\"\n",
    "\"\"\"https://www.hackerrank.com/challenges/list-comprehensions\"\"\"\n",
    "x = int(input())\n",
    "y = int(input())\n",
    "z = int(input())\n",
    "n = int(input())\n",
    "temp = []\n",
    "lis = [[i,j,k] if i+j+k!=n for i in range(x+1) for j in range(y+1) for k in range(z+1)]\n",
    "# for i in range(x+1):\n",
    "#     for j in range(y+1):\n",
    "#         for k in range(z+1):\n",
    "#             if i+j+k!=n:\n",
    "#                 temp.append(i)\n",
    "#                 temp.append(j)\n",
    "#                 temp.append(k)\n",
    "#                 lis.append(temp)\n",
    "#                 temp = []\n",
    "print (lis)"
   ]
  },
  {
   "cell_type": "code",
   "execution_count": 14,
   "metadata": {
    "collapsed": false
   },
   "outputs": [
    {
     "name": "stdout",
     "output_type": "stream",
     "text": [
      "1\n",
      "1\n",
      "1\n",
      "2\n",
      "[[0, 0, 0], [0, 0, 1], [0, 1, 0], [1, 0, 0], [1, 1, 1]]\n"
     ]
    }
   ],
   "source": [
    "\"\"\"Solved With list comprehension\"\"\"\n",
    "\"\"\"https://www.hackerrank.com/challenges/list-comprehensions\"\"\"\n",
    "x = int(input())\n",
    "y = int(input())\n",
    "z = int(input())\n",
    "n = int(input())\n",
    "temp = []\n",
    "lis = [[i,j,k] for i in range(x+1) for j in range(y+1) for k in range(z+1) if i+j+k!=n ]\n",
    "# for i in range(x+1):\n",
    "#     for j in range(y+1):\n",
    "#         for k in range(z+1):\n",
    "#             if i+j+k!=n:\n",
    "#                 temp.append(i)\n",
    "#                 temp.append(j)\n",
    "#                 temp.append(k)\n",
    "#                 lis.append(temp)\n",
    "#                 temp = []\n",
    "print (lis)"
   ]
  }
 ],
 "metadata": {
  "anaconda-cloud": {},
  "kernelspec": {
   "display_name": "Python [conda root]",
   "language": "python",
   "name": "conda-root-py"
  },
  "language_info": {
   "codemirror_mode": {
    "name": "ipython",
    "version": 3
   },
   "file_extension": ".py",
   "mimetype": "text/x-python",
   "name": "python",
   "nbconvert_exporter": "python",
   "pygments_lexer": "ipython3",
   "version": "3.5.2"
  }
 },
 "nbformat": 4,
 "nbformat_minor": 1
}
