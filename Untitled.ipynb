{
 "cells": [
  {
   "cell_type": "code",
   "execution_count": 153,
   "metadata": {
    "collapsed": false
   },
   "outputs": [
    {
     "name": "stdout",
     "output_type": "stream",
     "text": [
      "3\n",
      "\n",
      "0 0\n",
      "3\n",
      "50 50\n",
      "20 40\n",
      "60 30\n",
      "\n",
      "50 20\n",
      "3\n",
      "50 50\n",
      "20 40\n",
      "60 30\n",
      "\n",
      "50 50\n",
      "3\n",
      "50 50\n",
      "20 40\n",
      "60 30\n"
     ]
    }
   ],
   "source": [
    "#initialize\n",
    "c = int(input())\n",
    "#store Location coordinates\n",
    "locs = []\n",
    "userLoc = []\n",
    "for i in range(c):\n",
    "    #for empty input post number of inputs\n",
    "    input()\n",
    "    #userLoc stores the user's location\n",
    "    userLoc.append(input().strip().split(\" \"))\n",
    "    #number of stores = n\n",
    "    loc = []\n",
    "    n = int(input())\n",
    "    for x in range(n):\n",
    "        loc.append(input().strip().split(\" \"))\n",
    "    locs.append(n)\n",
    "    locs.append(loc)"
   ]
  },
  {
   "cell_type": "code",
   "execution_count": 154,
   "metadata": {
    "collapsed": false
   },
   "outputs": [],
   "source": [
    "from math import sqrt"
   ]
  },
  {
   "cell_type": "code",
   "execution_count": 155,
   "metadata": {
    "collapsed": false
   },
   "outputs": [
    {
     "name": "stdout",
     "output_type": "stream",
     "text": [
      "Case #1: 2 44.721359549995796\n",
      "Case #2: 3 14.142135623730951\n",
      "Case #3: 1 0.0\n"
     ]
    }
   ],
   "source": [
    "for c in range(len(userLoc)):\n",
    "    useX = int(userLoc[c][0])\n",
    "    useY = int(userLoc[c][1])\n",
    "#     print(\"User coordinates:{},{}\".format(useX,useY))\n",
    "    count = 0\n",
    "    distances = []\n",
    "    for qw in locs:\n",
    "        if count==0:\n",
    "            if type(qw) is not int:\n",
    "                count = 1\n",
    "                for a in range(len(qw)):\n",
    "                    x = int(qw[a][0])\n",
    "                    y = int(qw[a][1])\n",
    "#                     print (x,y)\n",
    "                    distance = sqrt(((useX-x)**2)+((useY-y)**2))\n",
    "                    distances.append(distance)\n",
    "#     print(distances)\n",
    "    minimum = min(distances)\n",
    "    print (\"Case #{}: {} {}\".format(c+1,distances.index(minimum)+1,minimum))\n",
    "#     print ()\n",
    "#     for ls in distances:\n",
    "#         print (ls)\n",
    "#         print (distances.index(ls))"
   ]
  }
 ],
 "metadata": {
  "anaconda-cloud": {},
  "kernelspec": {
   "display_name": "Python [conda root]",
   "language": "python",
   "name": "conda-root-py"
  },
  "language_info": {
   "codemirror_mode": {
    "name": "ipython",
    "version": 3
   },
   "file_extension": ".py",
   "mimetype": "text/x-python",
   "name": "python",
   "nbconvert_exporter": "python",
   "pygments_lexer": "ipython3",
   "version": "3.5.2"
  }
 },
 "nbformat": 4,
 "nbformat_minor": 1
}
